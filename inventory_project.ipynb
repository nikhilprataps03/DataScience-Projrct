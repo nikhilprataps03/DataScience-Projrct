{
 "cells": [
  {
   "cell_type": "code",
   "execution_count": 1,
   "metadata": {},
   "outputs": [],
   "source": [
    "import cx_Oracle as cx\n",
    "import datetime"
   ]
  },
  {
   "cell_type": "code",
   "execution_count": 2,
   "metadata": {},
   "outputs": [],
   "source": [
    "cn=cx.connect('scott/tiger@localhost:1521/orcl.168.1.9')"
   ]
  },
  {
   "cell_type": "code",
   "execution_count": 3,
   "metadata": {},
   "outputs": [],
   "source": [
    "cur=cn.cursor()"
   ]
  },
  {
   "cell_type": "code",
   "execution_count": 4,
   "metadata": {},
   "outputs": [],
   "source": [
    "def insert_prod_details(prod_id,prod_name,prod_desc,prod_qty,prod_pur_price,prod_sell_price,purc_dt):\n",
    "    \n",
    "    product_details='''insert into PRODUCTS_TABLE(prod_id,prod_name,prod_desc,prod_qty,prod_pur_price,prod_sell_price,purc_dt)\n",
    "    values(:prod_id,:prod_name,:prod_desc,:prod_qty,:prod_pur_price,:prod_sell_price,:purc_dt)'''\n",
    "    para=[prod_id,prod_name,prod_desc,prod_qty,prod_pur_price,prod_sell_price,purc_dt]\n",
    "    cur.execute(product_details,para)\n",
    "    cn.commit()\n",
    "    print('Record inserted')"
   ]
  },
  {
   "cell_type": "code",
   "execution_count": 6,
   "metadata": {},
   "outputs": [
    {
     "name": "stdout",
     "output_type": "stream",
     "text": [
      "Record inserted\n"
     ]
    }
   ],
   "source": [
    "insert_prod_details(1,'Namkeen','Haldiram Aloo Bhujia',5,55,70,'23-Apr-2020')"
   ]
  },
  {
   "cell_type": "code",
   "execution_count": 7,
   "metadata": {},
   "outputs": [
    {
     "name": "stdout",
     "output_type": "stream",
     "text": [
      "Record inserted\n",
      "Record inserted\n",
      "Record inserted\n",
      "Record inserted\n",
      "Record inserted\n",
      "Record inserted\n"
     ]
    }
   ],
   "source": [
    "insert_prod_details(2,'Milk','Amul Full cream milk',20,25,30,'23-Apr-2020')\n",
    "insert_prod_details(3,'Bread','Multi Grain Breads ',15,30,40,'23-Apr-2020')\n",
    "insert_prod_details(4,'Real Juice','Fresh Apple real juice',15,100,120,'24-Apr-2020')\n",
    "insert_prod_details(5,'Butter','Amul Fresh Butter',15,70,80,'24-Apr-2020')\n",
    "insert_prod_details(6,'Coffee','Nescafe coffee',15,100,130,'25-Apr-2020')\n",
    "insert_prod_details(7,'Biscuit','Bakery Biscuits',25,70,85,'25-Apr-2020')"
   ]
  },
  {
   "cell_type": "code",
   "execution_count": 5,
   "metadata": {},
   "outputs": [
    {
     "name": "stdout",
     "output_type": "stream",
     "text": [
      "(1, 'Namkeen', 'Haldiram Aloo Bhujia', 5, 55.0, 70.0, datetime.datetime(2020, 4, 23, 0, 0))\n",
      "(2, 'Milk', 'Amul Full cream milk', 20, 25.0, 30.0, datetime.datetime(2020, 4, 23, 0, 0))\n",
      "(3, 'Bread', 'Multi Grain Breads ', 15, 30.0, 40.0, datetime.datetime(2020, 4, 23, 0, 0))\n",
      "(4, 'Real Juice', 'Fresh Apple real juice', 15, 100.0, 120.0, datetime.datetime(2020, 4, 24, 0, 0))\n",
      "(5, 'Butter', 'Amul Fresh Butter', 15, 70.0, 80.0, datetime.datetime(2020, 4, 24, 0, 0))\n",
      "(6, 'Coffee', 'Nescafe coffee', 15, 100.0, 130.0, datetime.datetime(2020, 4, 25, 0, 0))\n",
      "(7, 'Biscuit', 'Bakery Biscuits', 25, 70.0, 85.0, datetime.datetime(2020, 4, 25, 0, 0))\n"
     ]
    }
   ],
   "source": [
    "rec=cur.execute('select *from product_table')\n",
    "for r in rec:\n",
    "    print(r)"
   ]
  },
  {
   "cell_type": "code",
   "execution_count": 6,
   "metadata": {},
   "outputs": [],
   "source": [
    "def insert_cust_details(cust_id,cust_name,cust_add,cust_email,cust_phn_no):\n",
    "    \n",
    "    customer_details='''insert into customers_table(cust_id,cust_name,cust_add,cust_email,cust_phn_no)\n",
    "    values(:cust_id,:cust_name,:cust_add,:cust_email,:cust_phn_no)'''\n",
    "    para=[cust_id,cust_name,cust_add,cust_email,cust_phn_no]\n",
    "    cur.execute(customer_details,para)\n",
    "    cn.commit()\n",
    "    print('Record inserted')"
   ]
  },
  {
   "cell_type": "code",
   "execution_count": 10,
   "metadata": {},
   "outputs": [
    {
     "name": "stdout",
     "output_type": "stream",
     "text": [
      "Record inserted\n"
     ]
    }
   ],
   "source": [
    "insert_cust_details(1,'Nikhil Singh','Noida','nikhilprataps03@gmail.com',7060451500)"
   ]
  },
  {
   "cell_type": "code",
   "execution_count": 11,
   "metadata": {},
   "outputs": [
    {
     "name": "stdout",
     "output_type": "stream",
     "text": [
      "Record inserted\n",
      "Record inserted\n",
      "Record inserted\n",
      "Record inserted\n",
      "Record inserted\n",
      "Record inserted\n"
     ]
    }
   ],
   "source": [
    "insert_cust_details(2,'Nishant Singh','Lucknow','nishant123@gmail.com',9080706050)\n",
    "insert_cust_details(3,'Abhishek Singh','Lucknow','abhi123@gmail.com',8080807070)\n",
    "insert_cust_details(4,'Aditya Singh','Noida','adi@gmail.com',8709907879)\n",
    "insert_cust_details(5,'Alok Upadhyay','Noida','aloksat123@gmail.com',9718908070)\n",
    "insert_cust_details(6,'Suyash Triapthi','Delhi','suyash@gmail.com',8516785858)\n",
    "insert_cust_details(7,'Avinash Sharma','Noida','nikhilprataps03@gmail.com',7060451500)"
   ]
  },
  {
   "cell_type": "code",
   "execution_count": 7,
   "metadata": {},
   "outputs": [
    {
     "name": "stdout",
     "output_type": "stream",
     "text": [
      "(1, 'Nikhil Singh', 'Noida', 'nikhilprataps03@gmail.com', 7060451500)\n",
      "(2, 'Nishant Singh', 'Lucknow', 'nishant123@gmail.com', 9080706050)\n",
      "(3, 'Abhishek Singh', 'Lucknow', 'abhi123@gmail.com', 8080807070)\n",
      "(4, 'Aditya Singh', 'Noida', 'adi@gmail.com', 8709907879)\n",
      "(5, 'Alok Upadhyay', 'Noida', 'aloksat123@gmail.com', 9718908070)\n",
      "(6, 'Suyash Triapthi', 'Delhi', 'suyash@gmail.com', 8516785858)\n",
      "(7, 'Avinash Sharma', 'Noida', 'nikhilprataps03@gmail.com', 7060451500)\n"
     ]
    }
   ],
   "source": [
    "rec_cust=cur.execute('select *from customers_table')\n",
    "for p in rec_cust:\n",
    "    print(p)"
   ]
  },
  {
   "cell_type": "code",
   "execution_count": 8,
   "metadata": {},
   "outputs": [
    {
     "name": "stdout",
     "output_type": "stream",
     "text": [
      "enter the invoice Id: 1\n",
      "enter the line no. 2\n",
      "enter the product Id1\n",
      "enter the quantity5\n",
      "Invoice Details table:\n",
      "('1', 2, 1, 5, 332.5, 350.0)\n",
      "Press Y/y to enter the header discounty\n",
      "enter the discount30\n",
      "('1', 332.5, 302.5, datetime.datetime(2020, 5, 5, 7, 11, 19))\n"
     ]
    }
   ],
   "source": [
    "import datetime\n",
    "\n",
    "def invoice_header():\n",
    "    in_id=int(input(\"enter the invoice Id: \"))\n",
    "    invc_dt=datetime.datetime.now()\n",
    "    header_para1=[in_id,invc_dt]\n",
    "    \n",
    "    #print(header_para)\n",
    "    header_ins1='''\n",
    "    insert into sales_invoice_header_table(invc_id,invc_dt) values(:invc_id,:invc_dt)\n",
    "    '''\n",
    "    cur.execute(header_ins1,header_para1)\n",
    "    total_price=invoice_details(in_id)\n",
    "    req=input(\"Press Y/y to enter the header discount\")\n",
    "    if req=='y' or req=='Y':\n",
    "        disc=float(input(\"enter the discount\"))\n",
    "    else:\n",
    "        disc=0.0\n",
    "    header_discount=total_price-disc\n",
    "    header_para2=[total_price,header_discount,in_id]\n",
    "    header_ins2='''\n",
    "    update sales_invoice_header_table set total_price=:total_price, header_disc=:header_disc\n",
    "    where invc_id=:invc_id\n",
    "    '''\n",
    "    cur.execute(header_ins2,header_para2)\n",
    "    cn.commit()\n",
    "    header_rec=cur.execute('select * from sales_invoice_header_table')\n",
    "    for r in header_rec:\n",
    "        print(r)\n",
    "    \n",
    "def invoice_details(in_id):\n",
    "    #disc=5%\n",
    "    invc_id=in_id\n",
    "    line_no=int(input(\"enter the line no. \"))\n",
    "    prod_id=int(input(\"enter the product Id\"))\n",
    "    ans=cur.execute('select prod_sell_price from products_table where prod_id='+str(prod_id))\n",
    "    price=ans.fetchone()\n",
    "    #print(price)\n",
    "    Qty=int(input(\"enter the quantity\"))\n",
    "    sell_price=price[0]*Qty\n",
    "    #print(\"product selling price is:\", prod_sell_price)\n",
    "    #print(type(prod_sell_price))\n",
    "    discount=sell_price-0.05*sell_price\n",
    "    inv_para=[invc_id,line_no,prod_id,Qty,sell_price,discount]\n",
    "    inv_ins='''\n",
    "    insert into sales_invoice_details_table(invc_id,line_no,prod_id,Qty,sell_price,discount)\n",
    "    values(:invc_id,:line_no,:prod_id,:Qty,:sell_price,:discount)\n",
    "    '''\n",
    "    cur.execute(inv_ins,inv_para)\n",
    "    \n",
    "    inv_rec=cur.execute('select * from sales_invoice_details_table order by invc_id ASC')\n",
    "    print(\"Invoice Details table:\")\n",
    "    for r in inv_rec:\n",
    "        print(r)\n",
    "    ans1=cur.execute('select sum(discount) from sales_invoice_details_table where invc_id='+str(invc_id))\n",
    "    total_price=ans1.fetchone()\n",
    "    return(total_price[0])\n",
    "    \n",
    "\n",
    "    \n",
    "invoice_header()"
   ]
  },
  {
   "cell_type": "markdown",
   "metadata": {},
   "source": [
    "# "
   ]
  }
 ],
 "metadata": {
  "kernelspec": {
   "display_name": "Python 3",
   "language": "python",
   "name": "python3"
  },
  "language_info": {
   "codemirror_mode": {
    "name": "ipython",
    "version": 3
   },
   "file_extension": ".py",
   "mimetype": "text/x-python",
   "name": "python",
   "nbconvert_exporter": "python",
   "pygments_lexer": "ipython3",
   "version": "3.7.4"
  }
 },
 "nbformat": 4,
 "nbformat_minor": 2
}
